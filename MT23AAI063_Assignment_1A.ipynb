{
 "cells": [
  {
   "cell_type": "code",
   "execution_count": null,
   "id": "901587ce-a388-430e-9cda-2e092b4a4e3c",
   "metadata": {},
   "outputs": [],
   "source": [
    "##Step 1: Import Required Libraries"
   ]
  },
  {
   "cell_type": "code",
   "execution_count": 1,
   "id": "31d627ad-279a-4108-ba2b-4c483ddf0aa9",
   "metadata": {},
   "outputs": [],
   "source": [
    "\n",
    "import numpy as np\n",
    "import pandas as pd\n",
    "from sklearn.ensemble import RandomForestClassifier\n",
    "from sklearn.model_selection import GridSearchCV, train_test_split\n",
    "from sklearn.metrics import accuracy_score\n",
    "from sklearn.datasets import load_iris"
   ]
  },
  {
   "cell_type": "code",
   "execution_count": 2,
   "id": "320244be-e83e-42e5-91e9-52323d8f9e49",
   "metadata": {},
   "outputs": [],
   "source": [
    "#Step 2: Load and Prepare the Data\n",
    "# Load dataset\n",
    "data = load_iris()\n",
    "X, y = data.data, data.target\n",
    "\n",
    "# Split data into training and testing sets\n",
    "X_train, X_test, y_train, y_test = train_test_split(X, y, test_size=0.2, random_state=42)\n",
    "\n",
    "\n"
   ]
  },
  {
   "cell_type": "code",
   "execution_count": 3,
   "id": "3af93843-a7f3-47f1-b68b-fd690422fb4f",
   "metadata": {},
   "outputs": [
    {
     "name": "stdout",
     "output_type": "stream",
     "text": [
      "Training Set Shape: (120, 4)\n",
      "Test Set Shape: (30, 4)\n"
     ]
    }
   ],
   "source": [
    "# Display dataset shape\n",
    "print(f\"Training Set Shape: {X_train.shape}\")\n",
    "print(f\"Test Set Shape: {X_test.shape}\")"
   ]
  },
  {
   "cell_type": "code",
   "execution_count": null,
   "id": "c791abfc-ac7a-432a-8b07-6e4f407d7a7c",
   "metadata": {},
   "outputs": [],
   "source": [
    "#Step 3: Define the Hyperparameter Grid"
   ]
  },
  {
   "cell_type": "code",
   "execution_count": 4,
   "id": "4ca41418-8e49-4639-9d1d-4f671d52339e",
   "metadata": {},
   "outputs": [
    {
     "name": "stdout",
     "output_type": "stream",
     "text": [
      "Hyperparameter Grid:\n",
      "n_estimators: [50, 100, 150]\n",
      "max_depth: [None, 10, 20]\n",
      "min_samples_split: [2, 5, 10]\n"
     ]
    }
   ],
   "source": [
    "# Define hyperparameter grid\n",
    "param_grid = {\n",
    "    'n_estimators': [50, 100, 150],\n",
    "    'max_depth': [None, 10, 20],\n",
    "    'min_samples_split': [2, 5, 10]\n",
    "}\n",
    "\n",
    "# Display parameter grid\n",
    "print(\"Hyperparameter Grid:\")\n",
    "for key, value in param_grid.items():\n",
    "    print(f\"{key}: {value}\")"
   ]
  },
  {
   "cell_type": "code",
   "execution_count": 5,
   "id": "5b3d172c-ab13-47cd-be78-23a7c2f35998",
   "metadata": {},
   "outputs": [],
   "source": [
    "#Step 4: Implement Grid Search with Cross-Validation\n",
    "#Use GridSearchCV to perform hyperparameter tuning with 5-fold cross-validation:"
   ]
  },
  {
   "cell_type": "code",
   "execution_count": 7,
   "id": "84c74c6f-7e55-4f83-b78a-bb5aec62ce93",
   "metadata": {},
   "outputs": [],
   "source": [
    "# Initialize Random Forest Classifier\n",
    "rf = RandomForestClassifier(random_state=42)"
   ]
  },
  {
   "cell_type": "code",
   "execution_count": 8,
   "id": "cd6b78e2-9355-41c6-a701-ddc157a628ea",
   "metadata": {},
   "outputs": [],
   "source": [
    "# Initialize GridSearchCV\n",
    "grid_search = GridSearchCV(estimator=rf, param_grid=param_grid, cv=5, scoring='accuracy', verbose=2, n_jobs=-1)"
   ]
  },
  {
   "cell_type": "code",
   "execution_count": 10,
   "id": "a2a798da-75ee-4cdc-b255-078336dd1ac8",
   "metadata": {},
   "outputs": [],
   "source": [
    "##Step 5: Report Results\n",
    "#Extract the best hyperparameters and accuracy score"
   ]
  },
  {
   "cell_type": "code",
   "execution_count": 11,
   "id": "64616aca-63ef-45a8-8807-ffe5c40af9a3",
   "metadata": {},
   "outputs": [
    {
     "name": "stdout",
     "output_type": "stream",
     "text": [
      "\n",
      "Best Hyperparameters:\n",
      "max_depth: None\n",
      "min_samples_split: 2\n",
      "n_estimators: 150\n",
      "\n",
      "Best Cross-Validated Accuracy: 0.9500\n",
      "\n",
      "Test Set Accuracy: 1.0000\n"
     ]
    }
   ],
   "source": [
    "# Get best parameters and score\n",
    "best_params = grid_search.best_params_\n",
    "best_score = grid_search.best_score_\n",
    "\n",
    "print(\"\\nBest Hyperparameters:\")\n",
    "for key, value in best_params.items():\n",
    "    print(f\"{key}: {value}\")\n",
    "\n",
    "print(f\"\\nBest Cross-Validated Accuracy: {best_score:.4f}\")\n",
    "\n",
    "# Test accuracy on unseen data\n",
    "best_model = grid_search.best_estimator_\n",
    "test_accuracy = accuracy_score(y_test, best_model.predict(X_test))\n",
    "print(f\"\\nTest Set Accuracy: {test_accuracy:.4f}\")"
   ]
  },
  {
   "cell_type": "code",
   "execution_count": 12,
   "id": "9c88df6b-a08b-4e20-ac2f-19b79a2fc94d",
   "metadata": {},
   "outputs": [],
   "source": [
    "#Step 6: Code Enhancements for Visualization"
   ]
  },
  {
   "cell_type": "code",
   "execution_count": 13,
   "id": "70fe65f5-f83b-43d8-8504-3730e23089a3",
   "metadata": {},
   "outputs": [],
   "source": [
    "# Convert grid search results to a DataFrame\n",
    "results_df = pd.DataFrame(grid_search.cv_results_)"
   ]
  },
  {
   "cell_type": "code",
   "execution_count": 14,
   "id": "ca9c2f02-cbc2-4eef-b431-8f752cc40042",
   "metadata": {},
   "outputs": [],
   "source": [
    "# Sort by mean test score\n",
    "sorted_results = results_df.sort_values(by=\"mean_test_score\", ascending=False)"
   ]
  },
  {
   "cell_type": "code",
   "execution_count": 15,
   "id": "13a45f64-4ca6-46d3-ba61-48d6baa75020",
   "metadata": {},
   "outputs": [
    {
     "name": "stdout",
     "output_type": "stream",
     "text": [
      "\n",
      "Top 5 Configurations:\n",
      "                                              params  mean_test_score\n",
      "2  {'max_depth': None, 'min_samples_split': 2, 'n...             0.95\n",
      "4  {'max_depth': None, 'min_samples_split': 5, 'n...             0.95\n",
      "3  {'max_depth': None, 'min_samples_split': 5, 'n...             0.95\n",
      "7  {'max_depth': None, 'min_samples_split': 10, '...             0.95\n",
      "8  {'max_depth': None, 'min_samples_split': 10, '...             0.95\n"
     ]
    }
   ],
   "source": [
    "# Display top 5 results\n",
    "print(\"\\nTop 5 Configurations:\")\n",
    "print(sorted_results[['params', 'mean_test_score']].head())"
   ]
  },
  {
   "cell_type": "code",
   "execution_count": 16,
   "id": "d0638dcf-573d-4867-b8dd-1833a2daf34f",
   "metadata": {},
   "outputs": [],
   "source": [
    "# Plot results for better visualization\n",
    "import matplotlib.pyplot as plt"
   ]
  },
  {
   "cell_type": "code",
   "execution_count": 17,
   "id": "2e2c0ded-4fcf-47ee-aa95-2eac3cce86d1",
   "metadata": {},
   "outputs": [
    {
     "data": {
      "image/png": "[encoded data removed]",
      "text/plain": [
       "<Figure size 1000x600 with 1 Axes>"
      ]
     },
     "metadata": {},
     "output_type": "display_data"
    },
    {
     "name": "stdout",
     "output_type": "stream",
     "text": [
      "[CV] END max_depth=None, min_samples_split=2, n_estimators=50; total time=   0.2s\n",
      "[CV] END max_depth=None, min_samples_split=2, n_estimators=150; total time=   0.4s\n",
      "[CV] END max_depth=None, min_samples_split=5, n_estimators=100; total time=   0.3s\n",
      "[CV] END max_depth=None, min_samples_split=10, n_estimators=50; total time=   0.1s\n",
      "[CV] END max_depth=None, min_samples_split=10, n_estimators=50; total time=   0.1s\n",
      "[CV] END max_depth=None, min_samples_split=10, n_estimators=100; total time=   0.2s\n",
      "[CV] END .max_depth=10, min_samples_split=2, n_estimators=50; total time=   0.1s\n",
      "[CV] END max_depth=10, min_samples_split=2, n_estimators=100; total time=   0.2s\n",
      "[CV] END max_depth=10, min_samples_split=2, n_estimators=150; total time=   0.4s\n",
      "[CV] END max_depth=10, min_samples_split=5, n_estimators=150; total time=   0.4s\n",
      "[CV] END max_depth=10, min_samples_split=10, n_estimators=100; total time=   0.2s\n",
      "[CV] END .max_depth=20, min_samples_split=2, n_estimators=50; total time=   0.1s\n",
      "[CV] END max_depth=20, min_samples_split=2, n_estimators=100; total time=   0.3s\n",
      "[CV] END max_depth=20, min_samples_split=2, n_estimators=150; total time=   0.4s\n",
      "[CV] END max_depth=20, min_samples_split=5, n_estimators=150; total time=   0.4s\n",
      "[CV] END max_depth=20, min_samples_split=10, n_estimators=100; total time=   0.4s\n",
      "[CV] END max_depth=None, min_samples_split=2, n_estimators=50; total time=   0.1s\n",
      "[CV] END max_depth=None, min_samples_split=2, n_estimators=150; total time=   0.4s\n",
      "[CV] END max_depth=None, min_samples_split=5, n_estimators=50; total time=   0.2s\n",
      "[CV] END max_depth=None, min_samples_split=5, n_estimators=150; total time=   0.4s\n",
      "[CV] END max_depth=None, min_samples_split=10, n_estimators=100; total time=   0.2s\n",
      "[CV] END .max_depth=10, min_samples_split=2, n_estimators=50; total time=   0.1s\n",
      "[CV] END .max_depth=10, min_samples_split=2, n_estimators=50; total time=   0.1s\n",
      "[CV] END max_depth=10, min_samples_split=2, n_estimators=100; total time=   0.2s\n",
      "[CV] END .max_depth=10, min_samples_split=5, n_estimators=50; total time=   0.1s\n",
      "[CV] END .max_depth=10, min_samples_split=5, n_estimators=50; total time=   0.1s\n",
      "[CV] END max_depth=10, min_samples_split=5, n_estimators=150; total time=   0.4s\n",
      "[CV] END max_depth=10, min_samples_split=10, n_estimators=100; total time=   0.2s\n",
      "[CV] END max_depth=10, min_samples_split=10, n_estimators=150; total time=   0.4s\n",
      "[CV] END max_depth=20, min_samples_split=2, n_estimators=150; total time=   0.4s\n",
      "[CV] END max_depth=20, min_samples_split=5, n_estimators=100; total time=   0.3s\n",
      "[CV] END max_depth=20, min_samples_split=10, n_estimators=50; total time=   0.1s\n",
      "[CV] END max_depth=20, min_samples_split=10, n_estimators=50; total time=   0.1s\n",
      "[CV] END max_depth=20, min_samples_split=10, n_estimators=100; total time=   0.4s\n",
      "[CV] END max_depth=None, min_samples_split=2, n_estimators=100; total time=   0.3s\n",
      "[CV] END max_depth=None, min_samples_split=2, n_estimators=150; total time=   0.4s\n",
      "[CV] END max_depth=None, min_samples_split=5, n_estimators=150; total time=   0.4s\n",
      "[CV] END max_depth=None, min_samples_split=10, n_estimators=100; total time=   0.2s\n",
      "[CV] END max_depth=None, min_samples_split=10, n_estimators=150; total time=   0.4s\n",
      "[CV] END max_depth=10, min_samples_split=2, n_estimators=150; total time=   0.4s\n",
      "[CV] END max_depth=10, min_samples_split=5, n_estimators=100; total time=   0.2s\n",
      "[CV] END max_depth=10, min_samples_split=10, n_estimators=50; total time=   0.1s\n",
      "[CV] END max_depth=10, min_samples_split=10, n_estimators=50; total time=   0.1s\n",
      "[CV] END max_depth=10, min_samples_split=10, n_estimators=150; total time=   0.4s\n",
      "[CV] END max_depth=20, min_samples_split=2, n_estimators=100; total time=   0.3s\n",
      "[CV] END max_depth=20, min_samples_split=2, n_estimators=150; total time=   0.4s\n",
      "[CV] END max_depth=20, min_samples_split=5, n_estimators=150; total time=   0.4s\n",
      "[CV] END max_depth=20, min_samples_split=10, n_estimators=100; total time=   0.4s\n",
      "[CV] END max_depth=None, min_samples_split=2, n_estimators=100; total time=   0.3s\n",
      "[CV] END max_depth=None, min_samples_split=5, n_estimators=50; total time=   0.1s\n",
      "[CV] END max_depth=None, min_samples_split=5, n_estimators=50; total time=   0.2s\n",
      "[CV] END max_depth=None, min_samples_split=5, n_estimators=100; total time=   0.3s\n",
      "[CV] END max_depth=None, min_samples_split=10, n_estimators=50; total time=   0.1s\n",
      "[CV] END max_depth=None, min_samples_split=10, n_estimators=100; total time=   0.2s\n",
      "[CV] END max_depth=None, min_samples_split=10, n_estimators=150; total time=   0.4s\n",
      "[CV] END max_depth=10, min_samples_split=2, n_estimators=150; total time=   0.4s\n",
      "[CV] END max_depth=10, min_samples_split=5, n_estimators=100; total time=   0.2s\n",
      "[CV] END max_depth=10, min_samples_split=10, n_estimators=50; total time=   0.1s\n",
      "[CV] END max_depth=10, min_samples_split=10, n_estimators=50; total time=   0.2s\n",
      "[CV] END max_depth=10, min_samples_split=10, n_estimators=100; total time=   0.3s\n",
      "[CV] END .max_depth=20, min_samples_split=2, n_estimators=50; total time=   0.1s\n",
      "[CV] END .max_depth=20, min_samples_split=2, n_estimators=50; total time=   0.1s\n",
      "[CV] END max_depth=20, min_samples_split=2, n_estimators=100; total time=   0.3s\n",
      "[CV] END .max_depth=20, min_samples_split=5, n_estimators=50; total time=   0.1s\n",
      "[CV] END max_depth=20, min_samples_split=5, n_estimators=100; total time=   0.3s\n",
      "[CV] END max_depth=20, min_samples_split=5, n_estimators=150; total time=   0.4s\n",
      "[CV] END max_depth=20, min_samples_split=10, n_estimators=150; total time=   0.5s\n",
      "[CV] END max_depth=None, min_samples_split=2, n_estimators=100; total time=   0.3s\n",
      "[CV] END max_depth=None, min_samples_split=2, n_estimators=150; total time=   0.4s\n",
      "[CV] END max_depth=None, min_samples_split=5, n_estimators=150; total time=   0.4s\n",
      "[CV] END max_depth=None, min_samples_split=10, n_estimators=100; total time=   0.2s\n",
      "[CV] END .max_depth=10, min_samples_split=2, n_estimators=50; total time=   0.1s\n",
      "[CV] END .max_depth=10, min_samples_split=2, n_estimators=50; total time=   0.1s\n",
      "[CV] END max_depth=10, min_samples_split=2, n_estimators=100; total time=   0.3s\n",
      "[CV] END .max_depth=10, min_samples_split=5, n_estimators=50; total time=   0.1s\n",
      "[CV] END max_depth=10, min_samples_split=5, n_estimators=100; total time=   0.2s\n",
      "[CV] END max_depth=10, min_samples_split=5, n_estimators=150; total time=   0.4s\n",
      "[CV] END max_depth=10, min_samples_split=10, n_estimators=150; total time=   0.4s\n",
      "[CV] END max_depth=20, min_samples_split=2, n_estimators=100; total time=   0.3s\n",
      "[CV] END .max_depth=20, min_samples_split=5, n_estimators=50; total time=   0.1s\n",
      "[CV] END max_depth=20, min_samples_split=5, n_estimators=100; total time=   0.3s\n",
      "[CV] END max_depth=20, min_samples_split=5, n_estimators=150; total time=   0.4s\n",
      "[CV] END max_depth=20, min_samples_split=10, n_estimators=150; total time=   0.5s\n",
      "[CV] END max_depth=None, min_samples_split=2, n_estimators=50; total time=   0.1s\n",
      "[CV] END max_depth=None, min_samples_split=2, n_estimators=100; total time=   0.3s\n",
      "[CV] END max_depth=None, min_samples_split=5, n_estimators=50; total time=   0.1s\n",
      "[CV] END max_depth=None, min_samples_split=5, n_estimators=100; total time=   0.3s\n",
      "[CV] END max_depth=None, min_samples_split=5, n_estimators=150; total time=   0.4s\n",
      "[CV] END max_depth=None, min_samples_split=10, n_estimators=150; total time=   0.4s\n",
      "[CV] END max_depth=10, min_samples_split=2, n_estimators=150; total time=   0.3s\n",
      "[CV] END max_depth=10, min_samples_split=5, n_estimators=100; total time=   0.2s\n",
      "[CV] END max_depth=10, min_samples_split=5, n_estimators=150; total time=   0.4s\n",
      "[CV] END max_depth=10, min_samples_split=10, n_estimators=150; total time=   0.4s\n",
      "[CV] END max_depth=20, min_samples_split=2, n_estimators=100; total time=   0.3s\n",
      "[CV] END .max_depth=20, min_samples_split=5, n_estimators=50; total time=   0.1s\n",
      "[CV] END .max_depth=20, min_samples_split=5, n_estimators=50; total time=   0.1s\n",
      "[CV] END max_depth=20, min_samples_split=5, n_estimators=100; total time=   0.3s\n",
      "[CV] END max_depth=20, min_samples_split=10, n_estimators=50; total time=   0.1s\n",
      "[CV] END max_depth=20, min_samples_split=10, n_estimators=50; total time=   0.1s\n",
      "[CV] END max_depth=20, min_samples_split=10, n_estimators=150; total time=   0.5s\n",
      "[CV] END max_depth=None, min_samples_split=2, n_estimators=50; total time=   0.2s\n",
      "[CV] END max_depth=None, min_samples_split=2, n_estimators=150; total time=   0.4s\n",
      "[CV] END max_depth=None, min_samples_split=5, n_estimators=100; total time=   0.3s\n",
      "[CV] END max_depth=None, min_samples_split=5, n_estimators=150; total time=   0.4s\n",
      "[CV] END max_depth=None, min_samples_split=10, n_estimators=150; total time=   0.4s\n",
      "[CV] END max_depth=10, min_samples_split=2, n_estimators=100; total time=   0.2s\n",
      "[CV] END .max_depth=10, min_samples_split=5, n_estimators=50; total time=   0.1s\n",
      "[CV] END .max_depth=10, min_samples_split=5, n_estimators=50; total time=   0.1s\n",
      "[CV] END max_depth=10, min_samples_split=5, n_estimators=100; total time=   0.2s\n",
      "[CV] END max_depth=10, min_samples_split=10, n_estimators=50; total time=   0.2s\n",
      "[CV] END max_depth=10, min_samples_split=10, n_estimators=100; total time=   0.2s\n",
      "[CV] END max_depth=10, min_samples_split=10, n_estimators=150; total time=   0.4s\n",
      "[CV] END max_depth=20, min_samples_split=2, n_estimators=150; total time=   0.4s\n",
      "[CV] END max_depth=20, min_samples_split=5, n_estimators=100; total time=   0.3s\n",
      "[CV] END max_depth=20, min_samples_split=10, n_estimators=50; total time=   0.1s\n",
      "[CV] END max_depth=20, min_samples_split=10, n_estimators=100; total time=   0.3s\n",
      "[CV] END max_depth=20, min_samples_split=10, n_estimators=150; total time=   0.4s\n",
      "[CV] END max_depth=None, min_samples_split=2, n_estimators=50; total time=   0.1s\n",
      "[CV] END max_depth=None, min_samples_split=2, n_estimators=100; total time=   0.3s\n",
      "[CV] END max_depth=None, min_samples_split=5, n_estimators=50; total time=   0.2s\n",
      "[CV] END max_depth=None, min_samples_split=5, n_estimators=100; total time=   0.3s\n",
      "[CV] END max_depth=None, min_samples_split=10, n_estimators=50; total time=   0.1s\n",
      "[CV] END max_depth=None, min_samples_split=10, n_estimators=50; total time=   0.1s\n",
      "[CV] END max_depth=None, min_samples_split=10, n_estimators=150; total time=   0.4s\n",
      "[CV] END max_depth=10, min_samples_split=2, n_estimators=100; total time=   0.2s\n",
      "[CV] END max_depth=10, min_samples_split=2, n_estimators=150; total time=   0.4s\n",
      "[CV] END max_depth=10, min_samples_split=5, n_estimators=150; total time=   0.4s\n",
      "[CV] END max_depth=10, min_samples_split=10, n_estimators=100; total time=   0.3s\n",
      "[CV] END .max_depth=20, min_samples_split=2, n_estimators=50; total time=   0.1s\n",
      "[CV] END .max_depth=20, min_samples_split=2, n_estimators=50; total time=   0.1s\n",
      "[CV] END max_depth=20, min_samples_split=2, n_estimators=150; total time=   0.4s\n",
      "[CV] END .max_depth=20, min_samples_split=5, n_estimators=50; total time=   0.2s\n",
      "[CV] END max_depth=20, min_samples_split=5, n_estimators=150; total time=   0.4s\n",
      "[CV] END max_depth=20, min_samples_split=10, n_estimators=100; total time=   0.3s\n",
      "[CV] END max_depth=20, min_samples_split=10, n_estimators=150; total time=   0.4s\n"
     ]
    }
   ],
   "source": [
    "# Plot mean test scores for each combination\n",
    "plt.figure(figsize=(10, 6))\n",
    "plt.plot(range(len(sorted_results)), sorted_results[\"mean_test_score\"], marker='o')\n",
    "plt.title(\"GridSearchCV Mean Test Scores\")\n",
    "plt.xlabel(\"Hyperparameter Configuration\")\n",
    "plt.ylabel(\"Mean Accuracy\")\n",
    "plt.grid()\n",
    "plt.show()"
   ]
  }
 ],
 "metadata": {
  "kernelspec": {
   "display_name": "Python 3 (ipykernel)",
   "language": "python",
   "name": "python3"
  },
  "language_info": {
   "codemirror_mode": {
    "name": "ipython",
    "version": 3
   },
   "file_extension": ".py",
   "mimetype": "text/x-python",
   "name": "python",
   "nbconvert_exporter": "python",
   "pygments_lexer": "ipython3",
   "version": "3.12.2"
  }
 },
 "nbformat": 4,
 "nbformat_minor": 5
}
